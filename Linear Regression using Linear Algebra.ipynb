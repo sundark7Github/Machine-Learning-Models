{
 "cells": [
  {
   "cell_type": "code",
   "execution_count": 4,
   "metadata": {},
   "outputs": [
    {
     "name": "stderr",
     "output_type": "stream",
     "text": [
      "C:\\ProgramData\\Anaconda2\\lib\\site-packages\\sklearn\\model_selection\\_split.py:2026: FutureWarning: From version 0.21, test_size will always complement train_size unless both are specified.\n",
      "  FutureWarning)\n"
     ]
    }
   ],
   "source": [
    "import pandas as pd\n",
    "import numpy as np\n",
    "from sklearn.model_selection import train_test_split as tts\n",
    "df1 = pd.read_csv(\"winequality-white.csv\",sep=';')\n",
    "df1['Color']='White'\n",
    "indep = df1.pop('quality')\n",
    "dep =  df1.iloc[:,:-1]\n",
    "X_tr,X_test,Y_tr,Y_test = tts(dep,indep,train_size = 0.2,random_state=20)\n",
    "\n",
    "on = np.ones((X_tr.shape[0],1)) # Preparing Ones matrix equal to number of rows of test data\n",
    "# Appending ones matrix as column to train independent data to predict y ntercept in addition to slopes\n",
    "X_b = np.append(X_tr,on,axis=1) \n",
    " # Transposing train matrix\n",
    "X_b_T = X_b.T\n",
    " # performing inverse for dot product of transpose of train independent data and train independent data\n",
    "inter = np.linalg.inv(np.dot(X_b_T,X_b))\n",
    "#Mutiplying transpose of train independent data and train dependent data\n",
    "y_inter = np.dot(X_b_T,Y_tr) \n",
    "#Multiplying above to result to get coefficients(slope) and y intercept\n",
    "#so far we did matrix linear reqgression operation (X'X)^-1 (X'.Y) where X is train independen data Y is train dependent data\n",
    "# X' is transpose of X\n",
    "final = np.dot(inter,y_inter) \n",
    "\n"
   ]
  },
  {
   "cell_type": "code",
   "execution_count": 5,
   "metadata": {},
   "outputs": [
    {
     "name": "stdout",
     "output_type": "stream",
     "text": [
      "[6.22776664 6.04631604 6.18686666 ... 6.24728847 6.59414088 5.98398875]\n"
     ]
    }
   ],
   "source": [
    "on = np.ones((X_test.shape[0],1))\n",
    "#Appending ones matrix as column to test independent data\n",
    "Xt_b = np.append(X_test,on,axis=1) \n",
    "#xt_b contains coefficient information and y intercept of best fit line\n",
    "# Predicting dependent data of test set which usually denoted by Ycap\n",
    "Y = np.dot(Xt_b,final)\n",
    "print(Y)"
   ]
  },
  {
   "cell_type": "code",
   "execution_count": 6,
   "metadata": {},
   "outputs": [
    {
     "data": {
      "text/plain": [
       "0.5918624769266404"
      ]
     },
     "execution_count": 6,
     "metadata": {},
     "output_type": "execute_result"
    }
   ],
   "source": [
    "np.mean((Y-Y_test)**2) # Finding Mean square error"
   ]
  }
 ],
 "metadata": {
  "kernelspec": {
   "display_name": "Python 2",
   "language": "python",
   "name": "python2"
  },
  "language_info": {
   "codemirror_mode": {
    "name": "ipython",
    "version": 2
   },
   "file_extension": ".py",
   "mimetype": "text/x-python",
   "name": "python",
   "nbconvert_exporter": "python",
   "pygments_lexer": "ipython2",
   "version": "2.7.15"
  }
 },
 "nbformat": 4,
 "nbformat_minor": 2
}
